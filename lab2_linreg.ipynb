{
  "cells": [
    {
      "cell_type": "markdown",
      "metadata": {
        "id": "view-in-github",
        "colab_type": "text"
      },
      "source": [
        "<a href=\"https://colab.research.google.com/github/Bbeelina/Project_1_DA/blob/main/lab2_linreg.ipynb\" target=\"_parent\"><img src=\"https://colab.research.google.com/assets/colab-badge.svg\" alt=\"Open In Colab\"/></a>"
      ]
    },
    {
      "cell_type": "markdown",
      "metadata": {
        "id": "f46lxLSsBp0f"
      },
      "source": [
        "# Лабораторная работа 2. Линейная Рергрессия."
      ]
    },
    {
      "cell_type": "code",
      "execution_count": null,
      "metadata": {
        "id": "z8Nfs9riBp0k"
      },
      "outputs": [],
      "source": [
        "from typing import List, Iterable\n",
        "\n",
        "import numpy as np\n",
        "import matplotlib.pyplot as plt"
      ]
    },
    {
      "cell_type": "markdown",
      "metadata": {
        "id": "m7jS7bJUBp0s"
      },
      "source": [
        "## Линейная регрессия"
      ]
    },
    {
      "cell_type": "markdown",
      "metadata": {
        "id": "HRrNZdJ7Bp0s"
      },
      "source": [
        "Теперь давайте напишем наш класс для линейной регрессии. Он будет использовать интерфейс, знакомый нам из библиотеки `sklearn`.\n",
        "\n",
        "В методе `fit` мы будем подбирать веса `w` при помощи градиентного спуска нашим методом `gradient_descent`\n",
        "\n",
        "В методе `predict` мы будем применять нашу регрессию к датасету,"
      ]
    },
    {
      "cell_type": "markdown",
      "metadata": {
        "id": "FyKvDkPOBp0s"
      },
      "source": [
        "**Задание 2.1 (10/8 балла):** Допишите код в методах `fit` и `predict` класса `LinearRegression`\n",
        "\n",
        "В методе `fit` вам нужно как-то инициализировать веса `w`, применить `gradient_descent` и сохранить последнюю `w` из траектории.\n",
        "\n",
        "В методе `predict` вам нужно применить линейную регрессию и вернуть вектор ответов.\n",
        "\n",
        "Обратите внимание, что объект лосса передаётся в момент инициализации и хранится в `self.loss`. Его нужно использовать в `fit` для `gradient_descent`."
      ]
    },
    {
      "cell_type": "code",
      "execution_count": null,
      "metadata": {
        "id": "KdTk79QTBp0t"
      },
      "outputs": [],
      "source": [
        "import abc\n",
        "\n",
        "class BaseLoss(abc.ABC):\n",
        "    \"\"\"Базовый класс лосса\"\"\"\n",
        "    @abc.abstractmethod\n",
        "    def calc_loss(self, X: np.ndarray, y: np.ndarray, w: np.ndarray) -> float:\n",
        "        \"\"\"\n",
        "        Функция для вычислений значения лосса\n",
        "        :param X: np.ndarray размера (n_objects, n_features) с объектами датасета\n",
        "        :param y: np.ndarray размера (n_objects,) с правильными ответами\n",
        "        :param w: np.ndarray размера (n_features,) с весами линейной регрессии\n",
        "        :return: число -- значения функции потерь\n",
        "        \"\"\"\n",
        "        raise NotImplementedError\n",
        "\n",
        "    @abc.abstractmethod\n",
        "    def calc_grad(self, X: np.ndarray, y: np.ndarray, w: np.ndarray) -> np.ndarray:\n",
        "        \"\"\"\n",
        "        Функция для вычислений градиента лосса по весам w\n",
        "        :param X: np.ndarray размера (n_objects, n_features) с объектами датасета\n",
        "        :param y: np.ndarray размера (n_objects,) с правильными ответами\n",
        "        :param w: np.ndarray размера (n_features,) с весами линейной регрессии\n",
        "        :return: np.ndarray размера (n_features,) градиент функции потерь по весам w\n",
        "        \"\"\"\n",
        "        raise NotImplementedError\n",
        "\n",
        "class MSELoss(BaseLoss):\n",
        "    def calc_loss(self, X: np.ndarray, y: np.ndarray, w: np.ndarray) -> float:\n",
        "        \"\"\"\n",
        "        Функция для вычислений значения лосса\n",
        "        :param X: np.ndarray размера (n_objects, n_features) с объектами датасета\n",
        "        :param y: np.ndarray размера (n_objects,) с правильными ответами\n",
        "        :param w: np.ndarray размера (n_features,) с весами линейной регрессии\n",
        "        :return: число -- значения функции потерь\n",
        "        \"\"\"\n",
        "        loss = np.square(X.dot(w) - y).mean()\n",
        "        return loss\n",
        "\n",
        "    def calc_grad(self, X: np.ndarray, y: np.ndarray, w: np.ndarray) -> np.ndarray:\n",
        "        \"\"\"\n",
        "        Функция для вычислений градиента лосса по весам w\n",
        "        :param X: np.ndarray размера (n_objects, n_features) с объектами датасета\n",
        "        :param y: np.ndarray размера (n_objects,) с правильными ответами\n",
        "        :param w: np.ndarray размера (n_features,) с весами линейной регрессии\n",
        "        :return: np.ndarray размера (n_features,) градиент функции потерь по весам w\n",
        "        \"\"\"\n",
        "        gradient = (2 / len(y)) * X.T.dot(X.dot(w) - y)\n",
        "        return gradient\n",
        "\n",
        "\n",
        "class LinearRegression:\n",
        "    def __init__(self, loss: BaseLoss, lr: float = 0.1) -> None:\n",
        "        self.loss = loss\n",
        "        self.lr = lr\n",
        "\n",
        "    def fit(self, X: np.ndarray, y: np.ndarray) -> 'LinearRegression':\n",
        "        X = np.asarray(X)\n",
        "        y = np.asarray(y)\n",
        "        # Добавляем столбец из единиц для константного признака\n",
        "        X = np.hstack([X, np.ones([X.shape[0], 1])])\n",
        "\n",
        "        # -- YOUR CODE HERE --\n",
        "        #случайно придумываем веса\n",
        "        self.w = np.random.randn(X.shape[1])\n",
        "\n",
        "        #градиентный спуск\n",
        "        for _ in range(100):  # Задайте нужное количество эпох\n",
        "          '''\n",
        "          y_pred = X @ self.w\n",
        "          grad = X.T @ (self.loss.calc_grad(X, y, self.w))\n",
        "          self.w -= self.lr * grad\n",
        "          '''\n",
        "          grad = self.loss.calc_grad(X, y, self.w)  # Вычисляем градиент\n",
        "          self.w -= self.lr * grad  # Обновляем веса\n",
        "\n",
        "        return self\n",
        "\n",
        "    def predict(self, X: np.ndarray) -> np.ndarray:\n",
        "        # Проверяем, что регрессия обучена, то есть, что был вызван fit и в нём был установлен атрибут self.w\n",
        "        assert hasattr(self, \"w\"), \"Linear regression must be fitted first\"\n",
        "        # Добавляем столбец из единиц для константного признака\n",
        "        X = np.hstack([X, np.ones([X.shape[0], 1])])\n",
        "\n",
        "        # Линейная регрессия\n",
        "        y_pred = X @ self.w\n",
        "        return y_pred"
      ]
    },
    {
      "cell_type": "markdown",
      "metadata": {
        "id": "CV2RGHwgBp0t"
      },
      "source": [
        "Теперь у нас есть наш класс линейной регрессии. Более того, мы можем управлять тем, какую функцию потерь мы оптимизируем, просто передавая разные классы в параметр `loss` при инициализации.\n",
        "\n",
        "Пока у нас нет никаких классов кроме `MSELoss`, но скоро они появятся.\n",
        "\n",
        "Для `MSELoss` мы бы создавали наш объект линейной регрессии, например, так:"
      ]
    },
    {
      "cell_type": "code",
      "execution_count": null,
      "metadata": {
        "id": "Cyfkw-L1Bp0t"
      },
      "outputs": [],
      "source": [
        "linear_regression = LinearRegression(MSELoss())"
      ]
    },
    {
      "cell_type": "markdown",
      "metadata": {
        "id": "kIG_P49YBp0t"
      },
      "source": [
        "Применим нашу регрессию на реальном датасете. Загрузим датасет с машинами, который был у вас на семинарах:"
      ]
    },
    {
      "cell_type": "code",
      "execution_count": null,
      "metadata": {
        "id": "nJn0SUlnBp0t"
      },
      "outputs": [],
      "source": [
        "import pandas as pd\n",
        "\n",
        "X_raw = pd.read_csv(\n",
        "    \"http://archive.ics.uci.edu/ml/machine-learning-databases/autos/imports-85.data\",\n",
        "    header=None,\n",
        "    na_values=[\"?\"]\n",
        ")\n",
        "X_raw.head()\n",
        "X_raw = X_raw[~X_raw[25].isna()].reset_index()"
      ]
    },
    {
      "cell_type": "code",
      "execution_count": null,
      "metadata": {
        "id": "_KcER5JtBp0u"
      },
      "outputs": [],
      "source": [
        "\n",
        "y = X_raw[25]\n",
        "X_raw = X_raw.drop(25, axis=1)"
      ]
    },
    {
      "cell_type": "markdown",
      "metadata": {
        "id": "AVS4T-IUBp0u"
      },
      "source": [
        "**Задание 2.2 (10/8 балла):** Как обычно обработайте датасет всеми нужными методами, чтобы на нём можно было обучать линейную регрессию:\n",
        "\n",
        "* Разделите датасет на обучающую и тестовую выборку\n",
        "* Заполните пропуски\n",
        "* Нормализуйте числовые признаки\n",
        "* Закодируйте категориальные переменные"
      ]
    },
    {
      "cell_type": "code",
      "execution_count": null,
      "metadata": {
        "id": "COp1ybClBp0u"
      },
      "outputs": [],
      "source": [
        "from sklearn.model_selection import train_test_split\n",
        "from sklearn.impute import SimpleImputer\n",
        "from sklearn.preprocessing import StandardScaler, OneHotEncoder\n",
        "from sklearn.compose import ColumnTransformer\n",
        "from sklearn.pipeline import Pipeline\n",
        "X_raw.columns = X_raw.columns.astype(str)\n",
        "# Разделение на обучающую и тестовую выборки\n",
        "X_train, X_test, y_train, y_test = train_test_split(X_raw, y, test_size=0.2, random_state=42)\n",
        "\n",
        "# Определение типов признаков\n",
        "numerical_features = X_train.select_dtypes(include=['float64', 'int64']).columns\n",
        "categorical_features = X_train.select_dtypes(include=['object']).columns\n",
        "\n",
        "# Преобразование данных\n",
        "preprocessor = ColumnTransformer([\n",
        "    ('numerical', Pipeline([\n",
        "        ('imputer', SimpleImputer(strategy='mean')),\n",
        "        ('scaler', StandardScaler())\n",
        "    ]), numerical_features),\n",
        "    ('categorical', Pipeline([\n",
        "        ('imputer', SimpleImputer(strategy='most_frequent')),\n",
        "        ('encoder', OneHotEncoder(handle_unknown='ignore'))\n",
        "    ]), categorical_features)\n",
        "])\n",
        "\n",
        "# Преобразование обучающей выборки\n",
        "X_train_preprocessed = preprocessor.fit_transform(X_train)\n",
        "\n",
        "# Преобразование тестовой выборки\n",
        "X_test_preprocessed = preprocessor.transform(X_test)"
      ]
    },
    {
      "cell_type": "markdown",
      "metadata": {
        "id": "Qm7c7zIzBp0u"
      },
      "source": [
        "**Задание 2.3 (10/8 балла):** Обучите написанную вами линейную регрессию на обучающей выборке"
      ]
    },
    {
      "cell_type": "code",
      "execution_count": null,
      "metadata": {
        "id": "lzjAlpliBp0u"
      },
      "outputs": [],
      "source": [
        "# -- YOUR CODE HERE --\n",
        "\n",
        "model = LinearRegression(loss=MSELoss(), lr=0.01)  # lr - скорость обучения\n",
        "model.fit(X_train_preprocessed, y_train)\n",
        "\n",
        "y_pred = model.predict(X_test_preprocessed)\n"
      ]
    },
    {
      "cell_type": "markdown",
      "metadata": {
        "id": "rr1bF2_bBp0u"
      },
      "source": [
        "**Задание 2.4 (10/8 балла):** Посчитайте ошибку обученной регрессии на обучающей и тестовой выборке при помощи метода `mean_squared_error` из `sklearn.metrics`."
      ]
    },
    {
      "cell_type": "code",
      "execution_count": null,
      "metadata": {
        "id": "L2KjQjxvBp0v",
        "colab": {
          "base_uri": "https://localhost:8080/"
        },
        "outputId": "9a127651-cddf-4d50-970e-ae5eed6ab538"
      },
      "outputs": [
        {
          "output_type": "stream",
          "name": "stdout",
          "text": [
            "RMSE вашей модели: 5574.70\n"
          ]
        }
      ],
      "source": [
        "from sklearn.metrics import root_mean_squared_error\n",
        "\n",
        "# -- YOUR CODE HERE --\n",
        "rmse = root_mean_squared_error(y_test, y_pred)\n",
        "\n",
        "print(f\"RMSE вашей модели: {rmse:.2f}\")"
      ]
    },
    {
      "cell_type": "markdown",
      "metadata": {
        "id": "SS5Oh4YoBp0v"
      },
      "source": [
        "Наша модель переобучилась. Давайте как обычно в такой ситуации добавим к ней L2 регуляризацию. Для этого нам нужно написать новый класс лосса.\n",
        "\n",
        "Формула функции потерь для MSE с L2 регуляризацией выглядит так:\n",
        "$$\n",
        "Q(w, X, y) = \\frac{1}{\\ell} \\sum\\limits_{i=1}^\\ell (\\langle x_i, w \\rangle - y_i)^2 + \\lambda ||w||^2\n",
        "$$\n",
        "\n",
        "Или в матричном виде:\n",
        "\n",
        "$$\n",
        "Q(w, X, y) = \\frac{1}{\\ell} || Xw - y ||^2 + \\lambda ||w||^2\n",
        "$$\n",
        "\n",
        "Где $\\lambda$ — коэффициент регуляризации\n",
        "\n",
        "Градиент выглядит так:\n",
        "\n",
        "$$\n",
        "\\nabla_w Q(w, X, y) = \\frac{2}{\\ell} X^T(Xw-y) + 2 \\lambda w\n",
        "$$"
      ]
    },
    {
      "cell_type": "markdown",
      "metadata": {
        "id": "Vogzj2W0Bp0v"
      },
      "source": [
        "**Задание 2.5 (10/8 балла):** Реализуйте класс `MSEL2Loss`\n",
        "\n",
        "Он должен вычислять лосс и градиент по формулам наверху\n",
        "\n",
        "Подсказка: обратите внимание, что последний элемент вектора `w` — это bias (в классе `LinearRegression` к матрице `X` добавляется колонка из единиц — константный признак). Как мы знаем из лекций и семинаров, bias регуляризовать не нужно. Поэтому не забудьте убрать последний элемент из `w` при подсчёте слагаемого $\\lambda||w||^2$ в `calc_loss` и занулить его при подсчёте слагаемого $2 \\lambda w$ в `calc_grad`"
      ]
    },
    {
      "cell_type": "code",
      "execution_count": null,
      "metadata": {
        "id": "58FvnEjHBp0v"
      },
      "outputs": [],
      "source": [
        "class MSEL2Loss(BaseLoss):\n",
        "    def __init__(self, coef: float = 1.):\n",
        "        \"\"\"\n",
        "        :param coef: коэффициент регуляризации (лямбда в формуле)\n",
        "        \"\"\"\n",
        "        self.coef = coef\n",
        "\n",
        "    def calc_loss(self, X: np.ndarray, y: np.ndarray, w: np.ndarray) -> float:\n",
        "        \"\"\"\n",
        "        Функция для вычислений значения лосса\n",
        "        :param X: np.ndarray размера (n_objects, n_features) с объектами датасета. Последний признак константный.\n",
        "        :param y: np.ndarray размера (n_objects,) с правильными ответами\n",
        "        :param w: np.ndarray размера (n_features,) с весами линейной регрессии. Последний вес -- bias.\n",
        "        :output: число -- значения функции потерь\n",
        "        \"\"\"\n",
        "        # -- YOUR CODE HERE --\n",
        "        # Вычислите значение функции потерь при помощи X, y и w и верните его\n",
        "        # Вычислите значение функции потерь при помощи X, y и w и верните его\n",
        "        loss = np.square(X.dot(w) - y).mean() + self.coef * np.sum(np.square(w[:-1]))  # Регуляризация всех весов, кроме bias\n",
        "        return loss\n",
        "\n",
        "    def calc_grad(self, X: np.ndarray, y: np.ndarray, w: np.ndarray) -> np.ndarray:\n",
        "        \"\"\"\n",
        "        Функция для вычислений градиента лосса по весам w\n",
        "        :param X: np.ndarray размера (n_objects, n_features) с объектами датасета\n",
        "        :param y: np.ndarray размера (n_objects,) с правильными ответами\n",
        "        :param w: np.ndarray размера (n_features,) с весами линейной регрессии\n",
        "        :output: np.ndarray размера (n_features,) градиент функции потерь по весам w\n",
        "        \"\"\"\n",
        "        # -- YOUR CODE HERE --\n",
        "        # Вычислите значение вектора градиента при помощи X, y и w и верните его\n",
        "        gradient = (2 / len(y)) * X.T.dot(X.dot(w) - y) + 2 * self.coef * np.concatenate(([w[i] for i in range(len(w) - 1)] , [0]))  # Регуляризация всех весов, кроме bias\n",
        "        return gradient"
      ]
    },
    {
      "cell_type": "markdown",
      "metadata": {
        "id": "lTl1XQP5Bp0v"
      },
      "source": [
        "Теперь мы можем использовать лосс с l2 регуляризацией в нашей регрессии, например, так:"
      ]
    },
    {
      "cell_type": "code",
      "execution_count": null,
      "metadata": {
        "id": "QanspiddBp0v"
      },
      "outputs": [],
      "source": [
        "linear_regression = LinearRegression(MSEL2Loss(0.1))"
      ]
    },
    {
      "cell_type": "markdown",
      "metadata": {
        "id": "VwmC8B0OBp0w"
      },
      "source": [
        "**Задание 2.6 (10/8 балла):** Обучите регрессию с лоссом `MSEL2Loss`. Подберите хороший коэффициент регуляризации и добейтесь улучшения результата на тестовой выборке. Сравните результат на обучающей и тестовой выборке с регрессией без регуляризации."
      ]
    },
    {
      "cell_type": "code",
      "execution_count": null,
      "metadata": {
        "id": "9FId8tKOBp0w",
        "colab": {
          "base_uri": "https://localhost:8080/"
        },
        "outputId": "c8403bff-b167-4c4a-95bf-a4e5599aaf86"
      },
      "outputs": [
        {
          "output_type": "stream",
          "name": "stdout",
          "text": [
            "RMSE на тестовой выборке (без регуляризации): 5574.70\n",
            "RMSE на обучающей выборке (без регуляризации): 2621.96\n",
            "RMSE на тестовой выборке (с регуляризацией L2): 5596.79\n",
            "RMSE на обучающей выборке (с регуляризацией L2): 2626.57\n",
            "Наилучший коэффициент регуляризации: 0.01\n"
          ]
        }
      ],
      "source": [
        "# -- YOUR CODE HERE --\n",
        "# Обучение модели с L2 регуляризацией\n",
        "best_rmse_test = float('inf')  # Инициализация наилучшего результата\n",
        "best_coef = 0.0\n",
        "# Подбор коэффициента регуляризации\n",
        "for coef in np.arange(0.01, 0.5, 0.01):  # Пробуем разные коэффициенты\n",
        "    model_l2 = LinearRegression(loss=MSEL2Loss(coef=coef), lr=0.01)\n",
        "    model_l2.fit(X_train_preprocessed, y_train)\n",
        "\n",
        "    # Предсказание на тестовой выборке\n",
        "    y_pred_test = model_l2.predict(X_test_preprocessed)\n",
        "    rmse_test = root_mean_squared_error(y_test, y_pred_test)\n",
        "\n",
        "    # Обновление наилучшего результата\n",
        "    if rmse_test < best_rmse_test:\n",
        "        best_rmse_test = rmse_test\n",
        "        best_coef = coef\n",
        "# Обучение модели с наилучшим коэффициентом регуляризации\n",
        "model_l2_best = LinearRegression(loss=MSEL2Loss(coef=best_coef), lr=0.01)\n",
        "model_l2_best.fit(X_train_preprocessed, y_train)\n",
        "# Предсказание на тестовой выборке\n",
        "y_pred_test = model_l2_best.predict(X_test_preprocessed)\n",
        "rmse_test = root_mean_squared_error(y_test, y_pred_test)\n",
        "# Предсказание на обучающей выборке\n",
        "y_pred_train = model_l2_best.predict(X_train_preprocessed)\n",
        "rmse_train = root_mean_squared_error(y_train, y_pred_train)\n",
        "\n",
        "# Предсказания для модели без регуляризации\n",
        "y_pred_train_no_reg = model.predict(X_train_preprocessed)\n",
        "rmse_train_no_reg = root_mean_squared_error(y_train, y_pred_train_no_reg)\n",
        "y_pred_test_no_reg = model.predict(X_test_preprocessed)\n",
        "rmse_test_no_reg = root_mean_squared_error(y_test, y_pred_test_no_reg)\n",
        "\n",
        "print(f\"RMSE на тестовой выборке (без регуляризации): {rmse_test_no_reg:.2f}\")\n",
        "print(f\"RMSE на обучающей выборке (без регуляризации): {rmse_train_no_reg:.2f}\")\n",
        "print(f\"RMSE на тестовой выборке (с регуляризацией L2): {rmse_test:.2f}\")\n",
        "print(f\"RMSE на обучающей выборке (с регуляризацией L2): {rmse_train:.2f}\")\n",
        "print(f\"Наилучший коэффициент регуляризации: {best_coef:.2f}\")"
      ]
    },
    {
      "cell_type": "markdown",
      "metadata": {
        "id": "e3GSc1JvBp0w"
      },
      "source": [
        "В нашем датасете могут быть выбросы. На семинаре вам рассказывали, что с выбросами хорошо помогает бороться Huber Loss. Вдали от нуля он работает как Mean Absolute Error и не реагирует на выбросы так сильно, как MSE. Давайте его реализуем и применим в нашей регрессии.\n",
        "\n",
        "Напомним, что функция потерь Huber Loss'а  выглядит так:\n",
        "\n",
        "\n",
        "$$\n",
        "    Q(w, X, y) = \\frac{1}{\\ell} \\sum\\limits_{i=1}^\\ell \\phi_\\varepsilon (\\langle x_i, w \\rangle - y_i)\n",
        "$$\n",
        "$$\n",
        "    \\phi_\\varepsilon(z) = \\begin{cases} \\frac 1 2 z^2, - \\varepsilon < z < \\varepsilon, \\\\\\varepsilon (|z| - \\frac 1 2 \\varepsilon), иначе \\\\ \\end{cases}\n",
        "$$\n",
        "\n",
        "\n",
        "А градиент так:\n",
        "$$\n",
        "    \\nabla_w Q(w, X, y) = \\frac{1}{\\ell} \\sum\\limits_{i=1}^\\ell x_i \\nabla_z \\phi_\\varepsilon (\\langle x_i, w \\rangle - y_i)\n",
        "$$\n",
        "$$\n",
        "    \\nabla_z \\phi_\\varepsilon(z) = \\begin{cases} z, - \\varepsilon < z < \\varepsilon, \\\\\\varepsilon \\text{ sign}(z), иначе \\\\ \\end{cases}\n",
        "$$"
      ]
    },
    {
      "cell_type": "markdown",
      "metadata": {
        "id": "B-y7M1qIBp0w"
      },
      "source": [
        "**Задание 2.7 (10/8 балла):** Реализуйте класс `HuberLoss`\n",
        "\n",
        "Он должен вычислять лосс и градиент по формулам наверху"
      ]
    },
    {
      "cell_type": "code",
      "execution_count": null,
      "metadata": {
        "id": "LqXGo9OLBp0w"
      },
      "outputs": [],
      "source": [
        "class HuberLoss(BaseLoss):\n",
        "    def __init__(self, eps: float) -> None:\n",
        "        \"\"\"\n",
        "        :param eps: параметр huber loss из формулы\n",
        "        \"\"\"\n",
        "        self.eps = eps\n",
        "\n",
        "    def calc_loss(self, X: np.ndarray, y: np.ndarray, w: np.ndarray) -> float:\n",
        "        \"\"\"\n",
        "        Функция для вычислений значения лосса\n",
        "        :param X: np.ndarray размера (n_objects, n_features) с объектами датасета\n",
        "        :param y: np.ndarray размера (n_objects,) с правильными ответами\n",
        "        :param w: np.ndarray размера (n_features,) с весами линейной регрессии\n",
        "        :output: число -- значения функции потерь\n",
        "        \"\"\"\n",
        "        # -- YOUR CODE HERE --\n",
        "        # Вычислите значение функции потерь при помощи X, y и w и верните егo\n",
        "        loss = np.where(np.abs(X.dot(w) - y) <= self.eps, 0.5 * np.square(X.dot(w) - y), self.eps * (np.abs(X.dot(w) - y) - 0.5 * self.eps))\n",
        "        return loss.mean()\n",
        "\n",
        "    def calc_grad(self, X: np.ndarray, y: np.ndarray, w: np.ndarray) -> np.ndarray:\n",
        "        \"\"\"\n",
        "        Функция для вычислений градиента лосса по весам w\n",
        "        :param X: np.ndarray размера (n_objects, n_features) с объектами датасета\n",
        "        :param y: np.ndarray размера (n_objects,) с правильными ответами\n",
        "        :param w: np.ndarray размера (n_features,) с весами линейной регрессии\n",
        "        :output: np.ndarray размера (n_features,) градиент функции потерь по весам w\n",
        "        \"\"\"\n",
        "        # -- YOUR CODE HERE --\n",
        "        # Вычислите значение вектора градиента при помощи X, y и w и верните его\n",
        "        gradient = np.where(np.abs(X.dot(w) - y) <= self.eps, (X.dot(w) - y), np.sign(X.dot(w) - y) * self.eps)\n",
        "        return (1 / len(y)) * X.T.dot(gradient)"
      ]
    },
    {
      "cell_type": "markdown",
      "metadata": {
        "id": "hyZkVwLWBp0w"
      },
      "source": [
        "**Задание 2.8 (10/8 балла):** Обучите регрессию с лоссом `HuberLoss`. Сравните результат на обучающей и тестовой выборке с регрессией, обученной c `MSELoss`."
      ]
    },
    {
      "cell_type": "code",
      "execution_count": null,
      "metadata": {
        "id": "q_BLLnGuBp0w",
        "colab": {
          "base_uri": "https://localhost:8080/"
        },
        "outputId": "bc87245f-5a6a-4fa3-8f7e-85cd9ccf008c"
      },
      "outputs": [
        {
          "output_type": "stream",
          "name": "stdout",
          "text": [
            "RMSE на тестовой выборке (MSELoss): 5574.70\n",
            "RMSE на обучающей выборке (MSELoss): 2621.96\n",
            "RMSE на тестовой выборке (HuberLoss): 19183.15\n",
            "RMSE на обучающей выборке (HuberLoss): 14267.85\n"
          ]
        }
      ],
      "source": [
        "# -- YOUR CODE HERE --\n",
        "# Обучение модели с HuberLoss\n",
        "model_huber = LinearRegression(loss=HuberLoss(eps=1.35), lr=0.01)\n",
        "model_huber.fit(X_train_preprocessed, y_train)\n",
        "\n",
        "# Предсказания на тестовой выборке\n",
        "y_pred_mse_test = model.predict(X_test_preprocessed)\n",
        "y_pred_huber_test = model_huber.predict(X_test_preprocessed)\n",
        "# Предсказания на обучающей выборке\n",
        "y_pred_mse_train = model.predict(X_train_preprocessed)\n",
        "y_pred_huber_train = model_huber.predict(X_train_preprocessed)\n",
        "\n",
        "# Оценка качества\n",
        "rmse_mse_test = root_mean_squared_error(y_test, y_pred_mse_test)\n",
        "rmse_huber_test = root_mean_squared_error(y_test, y_pred_huber_test)\n",
        "rmse_mse_train = root_mean_squared_error(y_train, y_pred_mse_train)\n",
        "rmse_huber_train = root_mean_squared_error(y_train, y_pred_huber_train)\n",
        "\n",
        "print(f\"RMSE на тестовой выборке (MSELoss): {rmse_mse_test:.2f}\")\n",
        "print(f\"RMSE на обучающей выборке (MSELoss): {rmse_mse_train:.2f}\")\n",
        "print(f\"RMSE на тестовой выборке (HuberLoss): {rmse_huber_test:.2f}\")\n",
        "print(f\"RMSE на обучающей выборке (HuberLoss): {rmse_huber_train:.2f}\")\n"
      ]
    },
    {
      "cell_type": "markdown",
      "metadata": {
        "id": "MdIqCkSEBp0w"
      },
      "source": [
        "**Задание 3**\n",
        "Вставьте смешную картинку с животными в ячейку ниже:"
      ]
    },
    {
      "cell_type": "code",
      "execution_count": 58,
      "metadata": {
        "id": "numfffXPBp0x",
        "outputId": "083e891a-e695-47ca-d476-855a82dd5cf5",
        "colab": {
          "base_uri": "https://localhost:8080/",
          "height": 423
        }
      },
      "outputs": [
        {
          "output_type": "stream",
          "name": "stdout",
          "text": [
            "Это дядя\n"
          ]
        },
        {
          "output_type": "display_data",
          "data": {
            "text/plain": [
              "<Figure size 640x480 with 1 Axes>"
            ],
            "image/png": "[encoded data removed]"
          },
          "metadata": {}
        }
      ],
      "source": [
        "from PIL import Image\n",
        "from urllib.request import urlopen\n",
        "import matplotlib.pyplot as plt\n",
        "\n",
        "url = \"https://encrypted-tbn0.gstatic.com/images?q=tbn:ANd9GcRoKiOiDcJ4SXJHEa-OKHbMpa6ekiCpxM0vwmneKs0ercw2WEpKSaKdIXem_nobumi-VgY&usqp=CAU\"\n",
        "image = Image.open(urlopen(url))\n",
        "\n",
        "plt.imshow(image)\n",
        "plt.axis('off')\n",
        "print(\"Это дядя\")\n",
        "plt.show()"
      ]
    }
  ],
  "metadata": {
    "colab": {
      "provenance": [],
      "include_colab_link": true
    },
    "kernelspec": {
      "display_name": "Python 3 (ipykernel)",
      "language": "python",
      "name": "python3"
    },
    "language_info": {
      "codemirror_mode": {
        "name": "ipython",
        "version": 3
      },
      "file_extension": ".py",
      "mimetype": "text/x-python",
      "name": "python",
      "nbconvert_exporter": "python",
      "pygments_lexer": "ipython3",
      "version": "3.12.4"
    }
  },
  "nbformat": 4,
  "nbformat_minor": 0
}